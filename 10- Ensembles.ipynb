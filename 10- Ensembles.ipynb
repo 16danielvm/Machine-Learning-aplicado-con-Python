{
 "metadata": {
  "language_info": {
   "codemirror_mode": {
    "name": "ipython",
    "version": 3
   },
   "file_extension": ".py",
   "mimetype": "text/x-python",
   "name": "python",
   "nbconvert_exporter": "python",
   "pygments_lexer": "ipython3",
   "version": "3.7.6-final"
  },
  "orig_nbformat": 2,
  "kernelspec": {
   "name": "python37664bit596798ea5e4e4ab99b405a84e2fc9d72",
   "display_name": "Python 3.7.6 64-bit",
   "language": "python"
  }
 },
 "nbformat": 4,
 "nbformat_minor": 2,
 "cells": [
  {
   "source": [
    "ENSEMBLES"
   ],
   "cell_type": "markdown",
   "metadata": {}
  },
  {
   "cell_type": "code",
   "execution_count": 1,
   "metadata": {},
   "outputs": [],
   "source": [
    "%matplotlib inline\n",
    "import numpy as np\n",
    "import pandas as pd\n",
    "import matplotlib.pyplot as plt"
   ]
  },
  {
   "source": [
    "Decision tress"
   ],
   "cell_type": "markdown",
   "metadata": {}
  },
  {
   "cell_type": "code",
   "execution_count": 2,
   "metadata": {},
   "outputs": [],
   "source": [
    "from sklearn.model_selection import train_test_split\n",
    "\n",
    "X = pd.read_csv('X_opening.csv')\n",
    "y = X['worldwide_gross']\n",
    "X = X.drop('worldwide_gross',axis=1)"
   ]
  },
  {
   "cell_type": "code",
   "execution_count": 3,
   "metadata": {},
   "outputs": [],
   "source": [
    "X_train, X_test, y_train, y_test = train_test_split(X,y,random_state=1)"
   ]
  },
  {
   "cell_type": "code",
   "execution_count": 4,
   "metadata": {},
   "outputs": [],
   "source": [
    "from sklearn.tree import DecisionTreeRegressor\n",
    "\n",
    "model = DecisionTreeRegressor(max_depth=2)"
   ]
  },
  {
   "cell_type": "code",
   "execution_count": 5,
   "metadata": {},
   "outputs": [
    {
     "output_type": "execute_result",
     "data": {
      "text/plain": [
       "DecisionTreeRegressor(max_depth=2)"
      ]
     },
     "metadata": {},
     "execution_count": 5
    }
   ],
   "source": [
    "model.fit(X_train,y_train)"
   ]
  },
  {
   "cell_type": "code",
   "execution_count": 7,
   "metadata": {},
   "outputs": [],
   "source": [
    "import graphviz "
   ]
  },
  {
   "cell_type": "code",
   "execution_count": 10,
   "metadata": {},
   "outputs": [],
   "source": [
    "from sklearn.tree import export_graphviz\n",
    "\n",
    "treedot = export_graphviz(model, out_file=None, feature_names = X.columns)"
   ]
  },
  {
   "cell_type": "code",
   "execution_count": 11,
   "metadata": {},
   "outputs": [
    {
     "output_type": "execute_result",
     "data": {
      "text/plain": [
       "'digraph Tree {\\nnode [shape=box] ;\\n0 [label=\"opening_gross <= 41613376.0\\\\nmse = 4.491994363696598e+16\\\\nsamples = 1665\\\\nvalue = 141540319.054\"] ;\\n1 [label=\"opening_gross <= 22074047.0\\\\nmse = 1.333382219312781e+16\\\\nsamples = 1506\\\\nvalue = 92999937.199\"] ;\\n0 -> 1 [labeldistance=2.5, labelangle=45, headlabel=\"True\"] ;\\n2 [label=\"mse = 4923666241203554.0\\\\nsamples = 1257\\\\nvalue = 64781848.271\"] ;\\n1 -> 2 ;\\n3 [label=\"mse = 3.147813101998751e+16\\\\nsamples = 249\\\\nvalue = 235450289.735\"] ;\\n1 -> 3 ;\\n4 [label=\"opening_gross <= 70351576.0\\\\nmse = 1.1039811871593606e+17\\\\nsamples = 159\\\\nvalue = 601300162.289\"] ;\\n0 -> 4 [labeldistance=2.5, labelangle=-45, headlabel=\"False\"] ;\\n5 [label=\"mse = 4.067538845924512e+16\\\\nsamples = 92\\\\nvalue = 440868287.554\"] ;\\n4 -> 5 ;\\n6 [label=\"mse = 1.2226485798747622e+17\\\\nsamples = 67\\\\nvalue = 821594676.851\"] ;\\n4 -> 6 ;\\n}'"
      ]
     },
     "metadata": {},
     "execution_count": 11
    }
   ],
   "source": [
    "treedot"
   ]
  },
  {
   "cell_type": "code",
   "execution_count": 15,
   "metadata": {},
   "outputs": [],
   "source": [
    "#graphviz.Source(treedot)"
   ]
  },
  {
   "source": [
    "RANDOM FOREST"
   ],
   "cell_type": "markdown",
   "metadata": {}
  },
  {
   "cell_type": "code",
   "execution_count": 22,
   "metadata": {},
   "outputs": [],
   "source": [
    "from sklearn.ensemble import RandomForestRegressor\n",
    "from sklearn.model_selection import cross_validate\n",
    "\n",
    "forest  = RandomForestRegressor(200)\n",
    "results = cross_validate(forest,X,y,cv=5,return_train_score=True,scoring='r2')"
   ]
  },
  {
   "cell_type": "code",
   "execution_count": 23,
   "metadata": {},
   "outputs": [
    {
     "output_type": "stream",
     "name": "stdout",
     "text": [
      "0.965249492366542\n0.517657530974039\n"
     ]
    }
   ],
   "source": [
    "train_scores = results['train_score']\n",
    "test_scores = results['test_score']\n",
    "print(np.mean(train_scores))\n",
    "print(np.mean(test_scores))\n",
    "\n",
    "#HAY OVERFITTING!\n",
    "#Mejor resultado que Lasso! Ya no hay underfitting y hay un mejor score r2. Sin embargo hay una diferencia importante entre score de entrenamiento y de test(overfit)"
   ]
  },
  {
   "source": [
    "GRADIENT BOOSTED TREES"
   ],
   "cell_type": "markdown",
   "metadata": {}
  },
  {
   "cell_type": "code",
   "execution_count": 24,
   "metadata": {},
   "outputs": [],
   "source": [
    "from sklearn.ensemble import GradientBoostingRegressor\n",
    "\n",
    "ensemble  = GradientBoostingRegressor()\n",
    "results = cross_validate(ensemble,X,y,cv=5,return_train_score=True,scoring='r2')"
   ]
  },
  {
   "cell_type": "code",
   "execution_count": 25,
   "metadata": {},
   "outputs": [
    {
     "output_type": "stream",
     "name": "stdout",
     "text": [
      "0.9151392143549633\n0.52431822813825\n"
     ]
    }
   ],
   "source": [
    "train_scores = results['train_score']\n",
    "test_scores = results['test_score']\n",
    "print(np.mean(train_scores))\n",
    "print(np.mean(test_scores))\n",
    "\n",
    "#Exactamente lo mismo que Random Forest"
   ]
  },
  {
   "source": [
    "OPTIMIZACION DE PARAMETROS"
   ],
   "cell_type": "markdown",
   "metadata": {}
  },
  {
   "cell_type": "code",
   "execution_count": 26,
   "metadata": {},
   "outputs": [],
   "source": [
    "from sklearn.model_selection import train_test_split\n",
    "\n",
    "X_train,X_test,y_train,y_test = train_test_split(X,y,random_state=1)"
   ]
  },
  {
   "cell_type": "code",
   "execution_count": 27,
   "metadata": {},
   "outputs": [],
   "source": [
    "from sklearn.model_selection import GridSearchCV\n",
    "\n",
    "#Definir combinacion de parametros\n",
    "param_test1 = {'n_estimators':range(20,501,20)}"
   ]
  },
  {
   "cell_type": "code",
   "execution_count": 28,
   "metadata": {},
   "outputs": [
    {
     "output_type": "execute_result",
     "data": {
      "text/plain": [
       "[20,\n",
       " 40,\n",
       " 60,\n",
       " 80,\n",
       " 100,\n",
       " 120,\n",
       " 140,\n",
       " 160,\n",
       " 180,\n",
       " 200,\n",
       " 220,\n",
       " 240,\n",
       " 260,\n",
       " 280,\n",
       " 300,\n",
       " 320,\n",
       " 340,\n",
       " 360,\n",
       " 380,\n",
       " 400,\n",
       " 420,\n",
       " 440,\n",
       " 460,\n",
       " 480,\n",
       " 500]"
      ]
     },
     "metadata": {},
     "execution_count": 28
    }
   ],
   "source": [
    "list(param_test1['n_estimators'])"
   ]
  },
  {
   "cell_type": "code",
   "execution_count": 29,
   "metadata": {},
   "outputs": [],
   "source": [
    "estimator = GradientBoostingRegressor(learning_rate=0.1,min_samples_split=500,min_samples_leaf=50,max_depth=8,\n",
    "max_features='sqrt',subsample=0.8,random_state=10)"
   ]
  },
  {
   "cell_type": "code",
   "execution_count": 30,
   "metadata": {},
   "outputs": [],
   "source": [
    "gsearch = GridSearchCV(estimator,param_grid=param_test1,scoring='r2',cv=5)"
   ]
  },
  {
   "cell_type": "code",
   "execution_count": 31,
   "metadata": {},
   "outputs": [
    {
     "output_type": "execute_result",
     "data": {
      "text/plain": [
       "GridSearchCV(cv=5,\n",
       "             estimator=GradientBoostingRegressor(max_depth=8,\n",
       "                                                 max_features='sqrt',\n",
       "                                                 min_samples_leaf=50,\n",
       "                                                 min_samples_split=500,\n",
       "                                                 random_state=10,\n",
       "                                                 subsample=0.8),\n",
       "             param_grid={'n_estimators': range(20, 501, 20)}, scoring='r2')"
      ]
     },
     "metadata": {},
     "execution_count": 31
    }
   ],
   "source": [
    "gsearch.fit(X_train,y_train)"
   ]
  },
  {
   "cell_type": "code",
   "execution_count": 36,
   "metadata": {},
   "outputs": [
    {
     "output_type": "execute_result",
     "data": {
      "text/plain": [
       "({'mean_fit_time': array([0.20597792, 0.10754271, 0.17056165, 0.21617689, 0.28824406,\n",
       "         0.32134128, 0.3713387 , 0.42474566, 0.47700005, 0.54094911,\n",
       "         0.57598987, 0.64317575, 0.65987515, 0.73912573, 0.77331138,\n",
       "         0.88867149, 0.91414232, 0.94936447, 1.01085687, 1.10976496,\n",
       "         1.14001923, 1.21151805, 1.27629609, 1.26240191, 1.34390602]),\n",
       "  'std_fit_time': array([0.30845447, 0.00351872, 0.00873967, 0.00515952, 0.01146196,\n",
       "         0.00808841, 0.00668596, 0.0128506 , 0.01412208, 0.04243156,\n",
       "         0.01882462, 0.03453891, 0.01789663, 0.03932329, 0.02450427,\n",
       "         0.05467872, 0.02374361, 0.0141751 , 0.02698495, 0.03089718,\n",
       "         0.0204956 , 0.03124998, 0.04712557, 0.04208516, 0.07167714]),\n",
       "  'mean_score_time': array([0.00690618, 0.00587416, 0.00561786, 0.00600681, 0.00479913,\n",
       "         0.00790091, 0.00664968, 0.00939016, 0.00815196, 0.00753527,\n",
       "         0.00799503, 0.00878243, 0.00858469, 0.00835524, 0.00916748,\n",
       "         0.01071258, 0.01046581, 0.01060562, 0.01235533, 0.01104646,\n",
       "         0.01198978, 0.01344905, 0.01283727, 0.0116118 , 0.01390285]),\n",
       "  'std_score_time': array([1.57044263e-03, 1.84469366e-03, 1.95377436e-03, 1.79025850e-03,\n",
       "         1.58320361e-03, 5.23116082e-04, 3.04690712e-03, 1.52967260e-03,\n",
       "         3.18974064e-04, 2.64561135e-03, 2.77569199e-05, 9.61446744e-04,\n",
       "         8.17539976e-04, 1.87029005e-03, 1.43396003e-03, 1.64849204e-03,\n",
       "         2.02892105e-03, 1.46838582e-03, 2.00281691e-03, 9.64758185e-04,\n",
       "         2.51885048e-03, 1.81076449e-03, 1.57338200e-03, 1.98856754e-03,\n",
       "         1.84696087e-03]),\n",
       "  'param_n_estimators': masked_array(data=[20, 40, 60, 80, 100, 120, 140, 160, 180, 200, 220, 240,\n",
       "                     260, 280, 300, 320, 340, 360, 380, 400, 420, 440, 460,\n",
       "                     480, 500],\n",
       "               mask=[False, False, False, False, False, False, False, False,\n",
       "                     False, False, False, False, False, False, False, False,\n",
       "                     False, False, False, False, False, False, False, False,\n",
       "                     False],\n",
       "         fill_value='?',\n",
       "              dtype=object),\n",
       "  'params': [{'n_estimators': 20},\n",
       "   {'n_estimators': 40},\n",
       "   {'n_estimators': 60},\n",
       "   {'n_estimators': 80},\n",
       "   {'n_estimators': 100},\n",
       "   {'n_estimators': 120},\n",
       "   {'n_estimators': 140},\n",
       "   {'n_estimators': 160},\n",
       "   {'n_estimators': 180},\n",
       "   {'n_estimators': 200},\n",
       "   {'n_estimators': 220},\n",
       "   {'n_estimators': 240},\n",
       "   {'n_estimators': 260},\n",
       "   {'n_estimators': 280},\n",
       "   {'n_estimators': 300},\n",
       "   {'n_estimators': 320},\n",
       "   {'n_estimators': 340},\n",
       "   {'n_estimators': 360},\n",
       "   {'n_estimators': 380},\n",
       "   {'n_estimators': 400},\n",
       "   {'n_estimators': 420},\n",
       "   {'n_estimators': 440},\n",
       "   {'n_estimators': 460},\n",
       "   {'n_estimators': 480},\n",
       "   {'n_estimators': 500}],\n",
       "  'split0_test_score': array([0.59752767, 0.66318962, 0.67799512, 0.68736261, 0.69407451,\n",
       "         0.69644295, 0.6990422 , 0.70000709, 0.70023325, 0.70254159,\n",
       "         0.7033932 , 0.70503564, 0.70421407, 0.70477118, 0.70456304,\n",
       "         0.70347179, 0.70591254, 0.70615844, 0.70549909, 0.70619335,\n",
       "         0.70641191, 0.70607005, 0.70488541, 0.70509459, 0.70606468]),\n",
       "  'split1_test_score': array([0.57597423, 0.62900787, 0.6424323 , 0.6465455 , 0.64650036,\n",
       "         0.65232314, 0.65522014, 0.65782511, 0.66077851, 0.66012628,\n",
       "         0.66283287, 0.66126336, 0.66186604, 0.66187646, 0.6613415 ,\n",
       "         0.6605033 , 0.66076393, 0.65800964, 0.65866955, 0.66006482,\n",
       "         0.65823844, 0.6586208 , 0.65890922, 0.65966929, 0.65999987]),\n",
       "  'split2_test_score': array([0.69278935, 0.76455418, 0.79716124, 0.79952293, 0.8100557 ,\n",
       "         0.81563534, 0.82510917, 0.82877848, 0.83334094, 0.83862217,\n",
       "         0.83775255, 0.84330169, 0.84772515, 0.8472231 , 0.84801138,\n",
       "         0.84870529, 0.84767823, 0.84913507, 0.84686398, 0.84695479,\n",
       "         0.84565689, 0.84729161, 0.844779  , 0.84384346, 0.84377605]),\n",
       "  'split3_test_score': array([0.72244447, 0.79285729, 0.79853015, 0.80412714, 0.79927652,\n",
       "         0.80102727, 0.80015696, 0.79786914, 0.79888451, 0.7983842 ,\n",
       "         0.79802751, 0.79674271, 0.79499869, 0.79126377, 0.79374111,\n",
       "         0.78697492, 0.78826422, 0.78952796, 0.7897137 , 0.78747139,\n",
       "         0.78725182, 0.78608141, 0.78645988, 0.78257718, 0.78215173]),\n",
       "  'split4_test_score': array([0.68795286, 0.74774462, 0.75750081, 0.75711135, 0.76033551,\n",
       "         0.76423249, 0.76817491, 0.76961897, 0.76959007, 0.76777876,\n",
       "         0.77084024, 0.77018645, 0.76705348, 0.76429162, 0.76535454,\n",
       "         0.76284789, 0.76488536, 0.76488593, 0.76218244, 0.76202628,\n",
       "         0.76172054, 0.76220427, 0.76279499, 0.76134627, 0.76281201]),\n",
       "  'mean_test_score': array([0.65533772, 0.71947072, 0.73472393, 0.73893391, 0.74204852,\n",
       "         0.74593224, 0.74954068, 0.75081976, 0.75256545, 0.7534906 ,\n",
       "         0.75456927, 0.75530597, 0.75517149, 0.75388522, 0.75460231,\n",
       "         0.75250064, 0.75350086, 0.75354341, 0.75258576, 0.75254213,\n",
       "         0.75185592, 0.75205363, 0.7515657 , 0.75050616, 0.75096087]),\n",
       "  'std_test_score': array([0.05763723, 0.06255975, 0.06359928, 0.06236477, 0.06271426,\n",
       "         0.06235501, 0.0633503 , 0.06304688, 0.06344048, 0.06446653,\n",
       "         0.06341511, 0.06488882, 0.06572082, 0.06495415, 0.06568747,\n",
       "         0.06544955, 0.06491881, 0.06623193, 0.06541616, 0.06469005,\n",
       "         0.06477375, 0.06507746, 0.06449293, 0.06351607, 0.06327329]),\n",
       "  'rank_test_score': array([25, 24, 23, 22, 21, 20, 19, 17, 10,  8,  4,  1,  2,  5,  3, 12,  7,\n",
       "          6,  9, 11, 14, 13, 15, 18, 16])},\n",
       " {'n_estimators': 240},\n",
       " 0.7553059694284988)"
      ]
     },
     "metadata": {},
     "execution_count": 36
    }
   ],
   "source": [
    "gsearch.cv_results_,gsearch.best_params_,gsearch.best_score_"
   ]
  },
  {
   "cell_type": "code",
   "execution_count": 41,
   "metadata": {},
   "outputs": [],
   "source": [
    "final_results = cross_validate(gsearch.best_estimator_,X_train,y_train,return_train_score=True)"
   ]
  },
  {
   "cell_type": "code",
   "execution_count": 42,
   "metadata": {},
   "outputs": [
    {
     "output_type": "stream",
     "name": "stdout",
     "text": [
      "0.8286608694466742\n0.7553059694284988\n"
     ]
    }
   ],
   "source": [
    "train_scores = final_results['train_score']\n",
    "test_scores = final_results['test_score']\n",
    "print(np.mean(train_scores))\n",
    "print(np.mean(test_scores))\n",
    "\n",
    "#Nos encontramos en una relacion ideal"
   ]
  },
  {
   "cell_type": "code",
   "execution_count": 43,
   "metadata": {},
   "outputs": [],
   "source": [
    "estimator = GradientBoostingRegressor(learning_rate=0.1,min_samples_split=500,min_samples_leaf=50,max_depth=8,\n",
    "max_features='sqrt',subsample=0.8,random_state=10,n_estimators=240)"
   ]
  },
  {
   "cell_type": "code",
   "execution_count": 44,
   "metadata": {},
   "outputs": [
    {
     "output_type": "execute_result",
     "data": {
      "text/plain": [
       "GradientBoostingRegressor(max_depth=8, max_features='sqrt', min_samples_leaf=50,\n",
       "                          min_samples_split=500, n_estimators=240,\n",
       "                          random_state=10, subsample=0.8)"
      ]
     },
     "metadata": {},
     "execution_count": 44
    }
   ],
   "source": [
    "estimator.fit(X_train,y_train)"
   ]
  },
  {
   "cell_type": "code",
   "execution_count": 45,
   "metadata": {},
   "outputs": [
    {
     "output_type": "execute_result",
     "data": {
      "text/plain": [
       "0.8092888852563106"
      ]
     },
     "metadata": {},
     "execution_count": 45
    }
   ],
   "source": [
    "estimator.score(X_test,y_test)\n",
    "#Excelente score! "
   ]
  },
  {
   "cell_type": "code",
   "execution_count": null,
   "metadata": {},
   "outputs": [],
   "source": []
  }
 ]
}