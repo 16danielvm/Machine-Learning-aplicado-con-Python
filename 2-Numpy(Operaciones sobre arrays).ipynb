{
 "metadata": {
  "language_info": {
   "codemirror_mode": {
    "name": "ipython",
    "version": 3
   },
   "file_extension": ".py",
   "mimetype": "text/x-python",
   "name": "python",
   "nbconvert_exporter": "python",
   "pygments_lexer": "ipython3",
   "version": "3.7.6-final"
  },
  "orig_nbformat": 2,
  "kernelspec": {
   "name": "python37664bit596798ea5e4e4ab99b405a84e2fc9d72",
   "display_name": "Python 3.7.6 64-bit",
   "language": "python"
  }
 },
 "nbformat": 4,
 "nbformat_minor": 2,
 "cells": [
  {
   "source": [
    "OPERACIONES SOBRE ARRAYS"
   ],
   "cell_type": "markdown",
   "metadata": {}
  },
  {
   "cell_type": "code",
   "execution_count": 2,
   "metadata": {},
   "outputs": [],
   "source": [
    "import numpy as np\n",
    "#Aritmetica\n",
    "a= np.arange(4)"
   ]
  },
  {
   "cell_type": "code",
   "execution_count": 11,
   "metadata": {},
   "outputs": [
    {
     "output_type": "stream",
     "name": "stdout",
     "text": [
      "a   =  [0 1 2 3]\na + 5 = [5 6 7 8]\na - 5 = [-5 -4 -3 -2]\na * 5 = [0 2 4 6]\na / 5 = [0.  0.5 1.  1.5]\na // 5 = [0 0 1 1]\n-a     = [ 0 -1 -2 -3]\na ** 2 = [0 1 4 9]\na % 5 = [0 1 0 1]\n"
     ]
    }
   ],
   "source": [
    "print(\"a   = \",a)\n",
    "print(\"a + 5 =\",a+5)\n",
    "print(\"a - 5 =\",a-5)\n",
    "print(\"a * 5 =\",a*2)\n",
    "print(\"a / 5 =\",a/2)\n",
    "print(\"a // 5 =\",a//2)\n",
    "print(\"-a     =\",-a)\n",
    "print(\"a ** 2 =\",a**2)\n",
    "print(\"a % 5 =\",a%2)\n"
   ]
  },
  {
   "cell_type": "code",
   "execution_count": 10,
   "metadata": {},
   "outputs": [
    {
     "output_type": "execute_result",
     "data": {
      "text/plain": [
       "array([0, 2, 4, 6])"
      ]
     },
     "metadata": {},
     "execution_count": 10
    }
   ],
   "source": [
    "a+a"
   ]
  },
  {
   "source": [
    "+ np.add\n",
    "- np.substract\n",
    "* np.multiply"
   ],
   "cell_type": "markdown",
   "metadata": {}
  },
  {
   "cell_type": "code",
   "execution_count": 14,
   "metadata": {},
   "outputs": [
    {
     "output_type": "display_data",
     "data": {
      "text/plain": "array([ 1.        ,  2.71828183,  7.3890561 , 20.08553692])"
     },
     "metadata": {}
    },
    {
     "output_type": "display_data",
     "data": {
      "text/plain": "array([0.        , 0.69314718, 1.09861229, 1.38629436])"
     },
     "metadata": {}
    },
    {
     "output_type": "display_data",
     "data": {
      "text/plain": "array([0.        , 1.        , 1.41421356, 1.73205081])"
     },
     "metadata": {}
    },
    {
     "output_type": "display_data",
     "data": {
      "text/plain": "array([False, False, False, False])"
     },
     "metadata": {}
    }
   ],
   "source": [
    "#Otras funciones\n",
    "a = np.arange(4)\n",
    "b = np.arange(1,5)\n",
    "\n",
    "display(np.exp(a)) #exponencial\n",
    "display(np.log(b)) #logaritmo natural\n",
    "display(np.sqrt(a)) #Raiz cuadrada\n",
    "display(np.greater(a,b))   #Superior o igual punto a punto"
   ]
  },
  {
   "source": [
    "Las funciones comen a velocidad de codigo compilado C.\n",
    "De poder utilizarse se deberian preferir al uso de for loops\n",
    "Un código Numpy solo con funciones nativas, sin bucles, se le llama código \"vectorizado\"."
   ],
   "cell_type": "markdown",
   "metadata": {}
  },
  {
   "cell_type": "code",
   "execution_count": 16,
   "metadata": {},
   "outputs": [
    {
     "output_type": "stream",
     "name": "stdout",
     "text": [
      "670 ms ± 20.8 ms per loop (mean ± std. dev. of 7 runs, 1 loop each)\n"
     ]
    }
   ],
   "source": [
    "%%timeit\n",
    "a = np.arange(1000000)\n",
    "b = np.zeros(1000000)\n",
    "i = 0\n",
    "for e1 in a:\n",
    "    b[i] = e1 + e1\n",
    "    i+=1"
   ]
  },
  {
   "cell_type": "code",
   "execution_count": 17,
   "metadata": {},
   "outputs": [
    {
     "output_type": "stream",
     "name": "stdout",
     "text": [
      "1.13 µs ± 26.1 ns per loop (mean ± std. dev. of 7 runs, 1000000 loops each)\n"
     ]
    }
   ],
   "source": [
    "%%timeit\n",
    "a+a"
   ]
  },
  {
   "source": [
    "ESTADISTICA Y ALEATORIEDAD"
   ],
   "cell_type": "markdown",
   "metadata": {}
  },
  {
   "cell_type": "code",
   "execution_count": 19,
   "metadata": {},
   "outputs": [
    {
     "output_type": "display_data",
     "data": {
      "text/plain": "4.5"
     },
     "metadata": {}
    },
    {
     "output_type": "display_data",
     "data": {
      "text/plain": "4.5"
     },
     "metadata": {}
    }
   ],
   "source": [
    "a = np.arange(10)\n",
    "\n",
    "display(np.mean(a)) #promedio\n",
    "display(np.median(a)) #mediana"
   ]
  },
  {
   "cell_type": "code",
   "execution_count": 20,
   "metadata": {},
   "outputs": [
    {
     "output_type": "execute_result",
     "data": {
      "text/plain": [
       "3.6"
      ]
     },
     "metadata": {},
     "execution_count": 20
    }
   ],
   "source": [
    "np.percentile(a,40) #percentil"
   ]
  },
  {
   "cell_type": "code",
   "execution_count": 21,
   "metadata": {},
   "outputs": [
    {
     "output_type": "execute_result",
     "data": {
      "text/plain": [
       "array([0.69865499, 0.64063501, 0.85766789, 0.06927209, 0.25068323,\n",
       "       0.8653035 , 0.87862917, 0.38226218, 0.79573839, 0.0707037 ])"
      ]
     },
     "metadata": {},
     "execution_count": 21
    }
   ],
   "source": [
    "np.random.random(10) #Genera array con 10 numeros aleatorios entre 0 y 1"
   ]
  }
 ]
}