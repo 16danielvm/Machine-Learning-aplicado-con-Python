{
 "metadata": {
  "language_info": {
   "codemirror_mode": {
    "name": "ipython",
    "version": 3
   },
   "file_extension": ".py",
   "mimetype": "text/x-python",
   "name": "python",
   "nbconvert_exporter": "python",
   "pygments_lexer": "ipython3",
   "version": "3.7.6-final"
  },
  "orig_nbformat": 2,
  "kernelspec": {
   "name": "python37664bit596798ea5e4e4ab99b405a84e2fc9d72",
   "display_name": "Python 3.7.6 64-bit",
   "language": "python"
  }
 },
 "nbformat": 4,
 "nbformat_minor": 2,
 "cells": [
  {
   "source": [
    "CREACION DE FEATURES "
   ],
   "cell_type": "markdown",
   "metadata": {}
  },
  {
   "cell_type": "code",
   "execution_count": 1,
   "metadata": {},
   "outputs": [],
   "source": [
    "%matplotlib inline\n",
    "\n",
    "import numpy as np\n",
    "import pandas as pd\n",
    "import matplotlib.pyplot as plt"
   ]
  },
  {
   "cell_type": "code",
   "execution_count": 2,
   "metadata": {},
   "outputs": [],
   "source": [
    "from sklearn.model_selection import train_test_split\n",
    "\n",
    "X = pd.read_csv('X.csv')\n",
    "y = X['worldwide_gross']\n",
    "X = X.drop('worldwide_gross',axis=1)\n",
    "X_train,X_test,y_train,y_test = train_test_split(X,y)\n"
   ]
  },
  {
   "source": [
    "EXISTEN DISTINTAS ESTRATEGIAS DE ESCALAMIENTO DE FEATURES, PERO LA MAS COMUN ES LA ESTANDARIZACION DONDE SE CONVIERTE LA VARIABLE PARA QUE LA DEISTRIBUCION SIGA UNA DISTRIBUCION GAUSSIANA DE MEDIA 0 Y DE DESVIACION ESTANDAR 1."
   ],
   "cell_type": "markdown",
   "metadata": {}
  },
  {
   "cell_type": "code",
   "execution_count": 3,
   "metadata": {},
   "outputs": [
    {
     "output_type": "execute_result",
     "data": {
      "text/plain": [
       "StandardScaler()"
      ]
     },
     "metadata": {},
     "execution_count": 3
    }
   ],
   "source": [
    "from sklearn.preprocessing import StandardScaler\n",
    "\n",
    "scaler = StandardScaler()\n",
    "scaler.fit(X_train)"
   ]
  },
  {
   "cell_type": "code",
   "execution_count": 4,
   "metadata": {},
   "outputs": [
    {
     "output_type": "execute_result",
     "data": {
      "text/plain": [
       "array([3.33117432e+07, 2.00206526e+03, 2.12239673e+00, 1.08728458e+02,\n",
       "       3.98696180e+07, 6.46198830e+00, 4.75851056e+07])"
      ]
     },
     "metadata": {},
     "execution_count": 4
    }
   ],
   "source": [
    "scaler.mean_ #Promedio de cada una de las features"
   ]
  },
  {
   "cell_type": "code",
   "execution_count": 5,
   "metadata": {},
   "outputs": [
    {
     "output_type": "execute_result",
     "data": {
      "text/plain": [
       "array([4.18037625e+07, 1.21271591e+01, 7.20497346e-01, 2.31532220e+01,\n",
       "       2.23899846e+08, 1.06815087e+00, 6.36056855e+07])"
      ]
     },
     "metadata": {},
     "execution_count": 5
    }
   ],
   "source": [
    "scaler.scale_ #Desviacion estandar de cada una de las features"
   ]
  },
  {
   "cell_type": "code",
   "execution_count": 9,
   "metadata": {},
   "outputs": [
    {
     "output_type": "execute_result",
     "data": {
      "text/plain": [
       "array([[-6.83233793e-01,  7.36754422e-01,  3.15897442e-01, ...,\n",
       "        -1.55737570e-01,  8.78164054e-01, -7.20928267e-01],\n",
       "       [-7.72938637e-01,  9.84133052e-01,  3.15897442e-01, ...,\n",
       "         2.61620674e-03,  3.16445651e-01, -6.99033259e-01],\n",
       "       [ 1.45174150e+00, -5.38146663e-03,  3.15897442e-01, ...,\n",
       "         2.41761586e-01,  2.09522060e+00,  4.60483666e+00],\n",
       "       ...,\n",
       "       [-7.92211754e-02,  8.19213966e-01,  3.15897442e-01, ...,\n",
       "        -4.40805039e-02,  8.78164054e-01,  2.96879269e-01],\n",
       "       [-3.18434093e-01,  9.01673509e-01,  3.15897442e-01, ...,\n",
       "        -8.87433304e-02,  1.53350219e+00,  1.42797995e-01],\n",
       "       [-7.49017345e-01,  7.36754422e-01, -4.75222751e-01, ...,\n",
       "        -1.77622355e-01, -3.38892487e-01,  1.15434217e-02]])"
      ]
     },
     "metadata": {},
     "execution_count": 9
    }
   ],
   "source": [
    "scaler.transform(X_train)"
   ]
  },
  {
   "cell_type": "code",
   "execution_count": 10,
   "metadata": {},
   "outputs": [],
   "source": [
    "x_train_scaled, X_test_scaled = (scaler.transform(X_train), scaler.transform(X_test))"
   ]
  },
  {
   "cell_type": "code",
   "execution_count": 12,
   "metadata": {},
   "outputs": [
    {
     "output_type": "execute_result",
     "data": {
      "text/plain": [
       "Lasso()"
      ]
     },
     "metadata": {},
     "execution_count": 12
    }
   ],
   "source": [
    "from sklearn.linear_model import Lasso\n",
    "\n",
    "model = Lasso()\n",
    "model_scaled = Lasso()\n",
    "\n",
    "model.fit(X_train,y_train)\n",
    "model_scaled.fit(x_train_scaled,y_train)"
   ]
  },
  {
   "cell_type": "code",
   "execution_count": 13,
   "metadata": {},
   "outputs": [
    {
     "output_type": "stream",
     "name": "stdout",
     "text": [
      "0.8613932816571488\n0.8613932810960223\n"
     ]
    }
   ],
   "source": [
    "print(model.score(X_test,y_test))\n",
    "print(model_scaled.score(X_test_scaled,y_test))"
   ]
  },
  {
   "source": [
    "SIMPLIFICAR LAS TRANSFORMACIONES CON PIPELINES\n",
    "\n",
    "Para hacer el codigo mas reproducible, y evitar tener que aplicar multiples veces una misma transformacion se recomienda utilizar sklearn.pipeline.make_pipeline que permite encadenar transformaciones a los modelos."
   ],
   "cell_type": "markdown",
   "metadata": {}
  },
  {
   "cell_type": "code",
   "execution_count": 14,
   "metadata": {},
   "outputs": [
    {
     "output_type": "execute_result",
     "data": {
      "text/plain": [
       "Pipeline(steps=[('standardscaler', StandardScaler()), ('lasso', Lasso())])"
      ]
     },
     "metadata": {},
     "execution_count": 14
    }
   ],
   "source": [
    "from sklearn.pipeline import make_pipeline\n",
    "\n",
    "model_scaled = make_pipeline(StandardScaler(), Lasso()) #Encadena los dos objetos de sklearn\n",
    "\n",
    "model_scaled.fit(X_train,y_train)"
   ]
  },
  {
   "cell_type": "code",
   "execution_count": 15,
   "metadata": {},
   "outputs": [
    {
     "output_type": "stream",
     "name": "stdout",
     "text": [
      "0.8613932810960223\n"
     ]
    }
   ],
   "source": [
    "print(model_scaled.score(X_test,y_test))"
   ]
  },
  {
   "source": [
    "CREACION NUEVAS DE FEATURES DE FORMA AUTOMATICA"
   ],
   "cell_type": "markdown",
   "metadata": {}
  },
  {
   "cell_type": "code",
   "execution_count": 17,
   "metadata": {},
   "outputs": [
    {
     "output_type": "execute_result",
     "data": {
      "text/plain": [
       "array([[0, 1],\n",
       "       [2, 3],\n",
       "       [4, 5]])"
      ]
     },
     "metadata": {},
     "execution_count": 17
    }
   ],
   "source": [
    "#Ejemplo \n",
    "A = np.arange(6).reshape(3,2)\n",
    "A"
   ]
  },
  {
   "cell_type": "code",
   "execution_count": 22,
   "metadata": {},
   "outputs": [
    {
     "output_type": "execute_result",
     "data": {
      "text/plain": [
       "array([[ 1.,  0.,  1.,  0.,  0.,  1.],\n",
       "       [ 1.,  2.,  3.,  4.,  6.,  9.],\n",
       "       [ 1.,  4.,  5., 16., 20., 25.]])"
      ]
     },
     "metadata": {},
     "execution_count": 22
    }
   ],
   "source": [
    "from sklearn.preprocessing import PolynomialFeatures\n",
    "\n",
    "transformer = PolynomialFeatures(2) #Grado del polinomio\n",
    "#Solo se transforma una vez por lo tanto se fit y se transforma al mismo tiempo\n",
    "transformer.fit_transform(A) #\n",
    "\n",
    "\n",
    "\n",
    "#PolynomialFeatures transforma una matriz (A1,A2) = (1,A1,A2,A1^2, A1*A2,A2^2)"
   ]
  },
  {
   "cell_type": "code",
   "execution_count": 24,
   "metadata": {},
   "outputs": [
    {
     "output_type": "execute_result",
     "data": {
      "text/plain": [
       "(4104, 36)"
      ]
     },
     "metadata": {},
     "execution_count": 24
    }
   ],
   "source": [
    "#Siguiendo con el proyecto\n",
    "transformer = PolynomialFeatures(2)\n",
    "transformer.fit_transform(X).shape"
   ]
  },
  {
   "cell_type": "code",
   "execution_count": 25,
   "metadata": {},
   "outputs": [
    {
     "output_type": "execute_result",
     "data": {
      "text/plain": [
       "0.878752984762311"
      ]
     },
     "metadata": {},
     "execution_count": 25
    }
   ],
   "source": [
    " model_poly = make_pipeline(PolynomialFeatures(2), Lasso())\n",
    " model_poly.fit(X_train,y_train)\n",
    " model_poly.score(X_test,y_test)"
   ]
  },
  {
   "cell_type": "code",
   "execution_count": null,
   "metadata": {},
   "outputs": [],
   "source": []
  }
 ]
}